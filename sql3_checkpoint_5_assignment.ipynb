{
 "cells": [
  {
   "cell_type": "markdown",
   "metadata": {},
   "source": [
    "Jacob Knopping\n",
    "\n",
    "12/6/19"
   ]
  },
  {
   "cell_type": "markdown",
   "metadata": {},
   "source": [
    "## __SQL FOUNDATIONS III: DVD Rentals Assignment__ "
   ]
  },
  {
   "cell_type": "markdown",
   "metadata": {},
   "source": [
    "__Assignment Questions:__\n",
    "\n",
    "1. How many movies are released for each rating?\n",
    "\n",
    "2. What is the average rental duration for each rating?\n",
    "\n",
    "3. What is the mean movie length? Calculate this by defining a function.\n",
    "\n",
    "4. What is the median movie length? Calculate this by defining a function.\n",
    "\n",
    "5. Calculate the standard deviation of the movie lengths. Calculate this by defining a function."
   ]
  },
  {
   "cell_type": "markdown",
   "metadata": {},
   "source": [
    "__Credentials:__\n",
    "\n",
    "_postgres_user_ = 'dsbc_student'\n",
    "\n",
    "_postgres_pw_ = '7*.8G9QH21'\n",
    "\n",
    "_postgres_host_ = '142.93.121.174'\n",
    "\n",
    "_postgres_port_ = '5432'\n",
    "\n",
    "_postgres_db_ = 'dvdrentals'\n"
   ]
  },
  {
   "cell_type": "code",
   "execution_count": 1,
   "metadata": {},
   "outputs": [
    {
     "name": "stdout",
     "output_type": "stream",
     "text": [
      "Requirement already satisfied: sqlalchemy in c:\\programdata\\anaconda3\\lib\\site-packages (1.3.5)\n",
      "Requirement already satisfied: psycopg2 in c:\\programdata\\anaconda3\\lib\\site-packages (2.8.4)\n",
      "Requirement already satisfied: psycopg2-binary in c:\\programdata\\anaconda3\\lib\\site-packages (2.8.4)\n"
     ]
    }
   ],
   "source": [
    "#Check libraries are installed\n",
    "!pip install sqlalchemy\n",
    "!pip install psycopg2\n",
    "!pip install psycopg2-binary"
   ]
  },
  {
   "cell_type": "code",
   "execution_count": 2,
   "metadata": {},
   "outputs": [],
   "source": [
    "#Import the SQL Alchemy engine\n",
    "from sqlalchemy import create_engine"
   ]
  },
  {
   "cell_type": "code",
   "execution_count": 3,
   "metadata": {},
   "outputs": [],
   "source": [
    "#Set database credentials\n",
    "postgres_user = 'dsbc_student'\n",
    "postgres_pw = '7*.8G9QH21'\n",
    "postgres_host = '142.93.121.174'\n",
    "postgres_port = '5432'\n",
    "postgres_db = 'dvdrentals'\n",
    "\n",
    "# use the credentials to start a connection\n",
    "engine = create_engine('postgresql://{}:{}@{}:{}/{}'.format(\n",
    "    postgres_user, postgres_pw, postgres_host, postgres_port, postgres_db))"
   ]
  },
  {
   "cell_type": "code",
   "execution_count": 4,
   "metadata": {},
   "outputs": [
    {
     "name": "stdout",
     "output_type": "stream",
     "text": [
      "(1, 'ACADEMY DINOSAUR', 'A Epic Drama of a Feminist And a Mad Scientist who must Battle a Teacher in The Canadian Rockies', 2006, 1, None, 6, Decimal('0.99'), 86, Decimal('20.99'), 'PG', datetime.datetime(2007, 9, 10, 17, 46, 3, 905795), ['Deleted Scenes', 'Behind the Scenes'], \"'academi':1 'battl':15 'canadian':20 'dinosaur':2 'drama':5 'epic':4 'feminist':8 'mad':11 'must':14 'rocki':21 'scientist':12 'teacher':17\")\n",
      "(2, 'ACE GOLDFINGER', 'A Astounding Epistle of a Database Administrator And a Explorer who must Find a Car in Ancient China', 2006, 1, None, 3, Decimal('4.99'), 48, Decimal('12.99'), 'G', datetime.datetime(2007, 9, 10, 17, 46, 3, 905795), ['Trailers', 'Deleted Scenes'], \"'ace':1 'administr':9 'ancient':19 'astound':4 'car':17 'china':20 'databas':8 'epistl':5 'explor':12 'find':15 'goldfing':2 'must':14\")\n",
      "(3, 'ADAPTATION HOLES', 'A Astounding Reflection of a Lumberjack And a Car who must Sink a Lumberjack in A Baloon Factory', 2006, 1, None, 7, Decimal('2.99'), 50, Decimal('18.99'), 'NC-17', datetime.datetime(2007, 9, 10, 17, 46, 3, 905795), ['Trailers', 'Deleted Scenes'], \"'adapt':1 'astound':4 'baloon':19 'car':11 'factori':20 'hole':2 'lumberjack':8,16 'must':13 'reflect':5 'sink':14\")\n"
     ]
    }
   ],
   "source": [
    "#Check the connection is working properly\n",
    "check = engine.execute('SELECT * FROM film LIMIT 3')\n",
    "\n",
    "# no need for an open connection, as we're only doing a single query\n",
    "engine.dispose()\n",
    "\n",
    "# Process the results\n",
    "for row in check:\n",
    "  print(row)"
   ]
  },
  {
   "cell_type": "code",
   "execution_count": 5,
   "metadata": {},
   "outputs": [
    {
     "name": "stdout",
     "output_type": "stream",
     "text": [
      "(996, 'YOUNG LANGUAGE', 'A Unbelieveable Yarn of a Boat And a Database Administrator who must Meet a Boy in The First Manned Space Station', 2006, 1, None, 6, Decimal('0.99'), 183, Decimal('9.99'), 'G', datetime.datetime(2007, 9, 10, 17, 46, 3, 905795), ['Trailers', 'Behind the Scenes'], \"'administr':12 'boat':8 'boy':17 'databas':11 'first':20 'languag':2 'man':21 'meet':15 'must':14 'space':22 'station':23 'unbeliev':4 'yarn':5 'young':1\")\n"
     ]
    }
   ],
   "source": [
    "#get rows for entire film table\n",
    "rows = engine.execute('SELECT * FROM film').fetchall()\n",
    "print(rows[-5]) #print last five rows as a check"
   ]
  },
  {
   "cell_type": "markdown",
   "metadata": {},
   "source": [
    "1. How many movies are released for each rating?"
   ]
  },
  {
   "cell_type": "code",
   "execution_count": 6,
   "metadata": {},
   "outputs": [
    {
     "name": "stdout",
     "output_type": "stream",
     "text": [
      "There are 178 G-rated films\n",
      "There are 194 PG-rated films\n",
      "There are 223 PG-13-rated films\n",
      "There are 195 R-rated films\n",
      "There are 210 NC-17-rated films\n"
     ]
    }
   ],
   "source": [
    "sql_code_1 = '''\n",
    "SELECT rating, COUNT(*) AS num_movies\n",
    "FROM film\n",
    "WHERE rating = 'G'\n",
    "GROUP BY rating;\n",
    "'''\n",
    "sql_code_2 = '''\n",
    "SELECT rating, COUNT(*) AS num_movies\n",
    "FROM film\n",
    "WHERE rating = 'PG'\n",
    "GROUP BY rating;\n",
    "'''\n",
    "sql_code_3 = '''\n",
    "SELECT rating, COUNT(*) AS num_movies\n",
    "FROM film\n",
    "WHERE rating = 'PG-13'\n",
    "GROUP BY rating;\n",
    "'''\n",
    "sql_code_4 = '''\n",
    "SELECT rating, COUNT(*) AS num_movies\n",
    "FROM film\n",
    "WHERE rating = 'R'\n",
    "GROUP BY rating;\n",
    "'''\n",
    "sql_code_5 = '''\n",
    "SELECT rating, COUNT(*) AS num_movies\n",
    "FROM film\n",
    "WHERE rating = 'NC-17'\n",
    "GROUP BY rating;\n",
    "'''\n",
    "get_answer = engine.execute(sql_code_1)\n",
    "engine.dispose()\n",
    "ans = get_answer.first()\n",
    "print('There are {} {}-rated films'.format(ans[1], ans[0]))\n",
    "\n",
    "get_answer = engine.execute(sql_code_2)\n",
    "engine.dispose()\n",
    "ans = get_answer.first()\n",
    "print('There are {} {}-rated films'.format(ans[1], ans[0]))\n",
    "\n",
    "get_answer = engine.execute(sql_code_3)\n",
    "engine.dispose()\n",
    "ans = get_answer.first()\n",
    "print('There are {} {}-rated films'.format(ans[1], ans[0]))\n",
    "\n",
    "get_answer = engine.execute(sql_code_4)\n",
    "engine.dispose()\n",
    "ans = get_answer.first()\n",
    "print('There are {} {}-rated films'.format(ans[1], ans[0]))\n",
    "\n",
    "get_answer = engine.execute(sql_code_5)\n",
    "engine.dispose()\n",
    "ans = get_answer.first()\n",
    "print('There are {} {}-rated films'.format(ans[1], ans[0]))"
   ]
  },
  {
   "cell_type": "markdown",
   "metadata": {},
   "source": [
    "2. What is the average rental duration for each rating?"
   ]
  },
  {
   "cell_type": "code",
   "execution_count": 7,
   "metadata": {},
   "outputs": [
    {
     "name": "stdout",
     "output_type": "stream",
     "text": [
      "The average rental duration for G-rated films is 4.8370786516853933\n",
      "The average rental duration for PG-rated films is 5.0824742268041237\n",
      "The average rental duration for PG-13-rated films is 5.0538116591928251\n",
      "The average rental duration for R-rated films is 4.7743589743589744\n",
      "The average rental duration for NC-17-rated films is 5.1428571428571429\n"
     ]
    }
   ],
   "source": [
    "sql_code_1 = '''\n",
    "SELECT rating, AVG(rental_duration) AS rental_dur\n",
    "FROM film\n",
    "WHERE rating = 'G'\n",
    "GROUP BY rating;'''\n",
    "sql_code_2 = '''\n",
    "SELECT rating, AVG(rental_duration) AS rental_dur\n",
    "FROM film\n",
    "WHERE rating = 'PG'\n",
    "GROUP BY rating;'''\n",
    "sql_code_3 = '''\n",
    "SELECT rating, AVG(rental_duration) AS rental_dur\n",
    "FROM film\n",
    "WHERE rating = 'PG-13'\n",
    "GROUP BY rating;'''\n",
    "sql_code_4 = '''\n",
    "SELECT rating, AVG(rental_duration) AS rental_dur\n",
    "FROM film\n",
    "WHERE rating = 'R'\n",
    "GROUP BY rating;'''\n",
    "sql_code_5 = '''\n",
    "SELECT rating, AVG(rental_duration) AS rental_dur\n",
    "FROM film\n",
    "WHERE rating = 'NC-17'\n",
    "GROUP BY rating;'''\n",
    "\n",
    "get_answer = engine.execute(sql_code_1)\n",
    "ans = get_answer.first()\n",
    "print(\"The average rental duration for {}-rated films is {}\".format(ans[0], ans[1]))\n",
    "\n",
    "get_answer = engine.execute(sql_code_2)\n",
    "ans = get_answer.first()\n",
    "print(\"The average rental duration for {}-rated films is {}\".format(ans[0], ans[1]))\n",
    "\n",
    "get_answer = engine.execute(sql_code_3)\n",
    "ans = get_answer.first()\n",
    "print(\"The average rental duration for {}-rated films is {}\".format(ans[0], ans[1]))\n",
    "\n",
    "get_answer = engine.execute(sql_code_4)\n",
    "ans = get_answer.first()\n",
    "print(\"The average rental duration for {}-rated films is {}\".format(ans[0], ans[1]))\n",
    "\n",
    "get_answer = engine.execute(sql_code_5)\n",
    "ans = get_answer.first()\n",
    "print(\"The average rental duration for {}-rated films is {}\".format(ans[0], ans[1]))"
   ]
  },
  {
   "cell_type": "markdown",
   "metadata": {},
   "source": [
    "3. What is the mean movie length? Calculate this by defining a function."
   ]
  },
  {
   "cell_type": "code",
   "execution_count": 8,
   "metadata": {},
   "outputs": [
    {
     "name": "stdout",
     "output_type": "stream",
     "text": [
      "The mean of movie length is 115.272\n"
     ]
    }
   ],
   "source": [
    "sql = '''\n",
    "SELECT length\n",
    "FROM film\n",
    "'''\n",
    "lengths = engine.execute(sql)\n",
    "rows = lengths.fetchall()\n",
    "lengths = [x['length'] for x in rows]\n",
    "#print(lengths)\n",
    "\n",
    "def mean(numbers):\n",
    "    total_sum = 0; #initialize the sum to zero\n",
    "    for num in numbers:\n",
    "        total_sum += num #add up the numbers in the array\n",
    "    count = len(numbers) #find the length of the array\n",
    "    calc_mean = total_sum/count #calculate mean\n",
    "    return calc_mean\n",
    "\n",
    "#print('\\n')\n",
    "print('The mean of movie length is {}'.format(mean(lengths)))"
   ]
  },
  {
   "cell_type": "markdown",
   "metadata": {},
   "source": [
    "4. What is the median movie length? Calculate this by defining a function."
   ]
  },
  {
   "cell_type": "code",
   "execution_count": 9,
   "metadata": {},
   "outputs": [
    {
     "name": "stdout",
     "output_type": "stream",
     "text": [
      "The median of the movie length is 114.0\n"
     ]
    }
   ],
   "source": [
    "import math\n",
    "\n",
    "def median(numbers):\n",
    "    numbers.sort() #sort the list of numbers\n",
    "    count = len(numbers) #get length of array\n",
    "    is_even = count % 2 == 0 #check if even\n",
    "    \n",
    "    if (is_even):\n",
    "        # find the two numbers in the middle of the array\n",
    "        mid = math.floor(count / 2)\n",
    "        a = numbers[mid]\n",
    "        b = numbers[mid -1]\n",
    "        #get average of two mid numbers\n",
    "        ans = (a + b)/2\n",
    "    else:\n",
    "        ans = numbers[math.floor(count/2)]\n",
    "    return ans\n",
    "\n",
    "print('The median of the movie length is {}'.format(median(lengths)))\n"
   ]
  },
  {
   "cell_type": "markdown",
   "metadata": {},
   "source": [
    "5. Calculate the standard deviation of the movie lengths. Calculate this by defining a function."
   ]
  },
  {
   "cell_type": "code",
   "execution_count": 10,
   "metadata": {},
   "outputs": [
    {
     "name": "stdout",
     "output_type": "stream",
     "text": [
      "The standard deviation of the movie lengths is 40.42633181855988\n"
     ]
    }
   ],
   "source": [
    "def standard_deviation(numbers):\n",
    "  X_bar = mean(numbers)\n",
    "  N = len(numbers)\n",
    "  total_sum = 0\n",
    "  for X in numbers:\n",
    "    diff = X - X_bar\n",
    "    squared = math.pow(diff, 2)\n",
    "    total_sum += squared\n",
    "  sigma = math.sqrt(total_sum / (N - 1))  \n",
    "  return sigma\n",
    "\n",
    "print('The standard deviation of the movie lengths is {}'.format(standard_deviation(lengths)))"
   ]
  }
 ],
 "metadata": {
  "kernelspec": {
   "display_name": "Python 3",
   "language": "python",
   "name": "python3"
  },
  "language_info": {
   "codemirror_mode": {
    "name": "ipython",
    "version": 3
   },
   "file_extension": ".py",
   "mimetype": "text/x-python",
   "name": "python",
   "nbconvert_exporter": "python",
   "pygments_lexer": "ipython3",
   "version": "3.7.3"
  }
 },
 "nbformat": 4,
 "nbformat_minor": 2
}
